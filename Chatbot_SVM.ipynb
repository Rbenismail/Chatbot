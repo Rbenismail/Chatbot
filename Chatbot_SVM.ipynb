{
  "nbformat": 4,
  "nbformat_minor": 0,
  "metadata": {
    "colab": {
      "provenance": []
    },
    "kernelspec": {
      "name": "python3",
      "display_name": "Python 3"
    },
    "language_info": {
      "name": "python"
    }
  },
  "cells": [
    {
      "cell_type": "code",
      "source": [
        "!pip install spacy -q\n",
        "!python -m spacy download en_core_web_sm -q\n"
      ],
      "metadata": {
        "colab": {
          "base_uri": "https://localhost:8080/"
        },
        "id": "TUuGmKJjmMLo",
        "outputId": "eae610c2-1081-40bc-ca31-c17937ecbf15"
      },
      "execution_count": null,
      "outputs": [
        {
          "output_type": "stream",
          "name": "stdout",
          "text": [
            "/usr/local/lib/python3.8/dist-packages/torch/cuda/__init__.py:497: UserWarning: Can't initialize NVML\n",
            "  warnings.warn(\"Can't initialize NVML\")\n",
            "2023-03-08 08:59:02.897542: I tensorflow/core/platform/cpu_feature_guard.cc:193] This TensorFlow binary is optimized with oneAPI Deep Neural Network Library (oneDNN) to use the following CPU instructions in performance-critical operations:  AVX2 FMA\n",
            "To enable them in other operations, rebuild TensorFlow with the appropriate compiler flags.\n",
            "2023-03-08 08:59:05.756721: W tensorflow/compiler/xla/stream_executor/platform/default/dso_loader.cc:64] Could not load dynamic library 'libnvinfer.so.7'; dlerror: libnvinfer.so.7: cannot open shared object file: No such file or directory; LD_LIBRARY_PATH: /usr/local/nvidia/lib:/usr/local/nvidia/lib64\n",
            "2023-03-08 08:59:05.756890: W tensorflow/compiler/xla/stream_executor/platform/default/dso_loader.cc:64] Could not load dynamic library 'libnvinfer_plugin.so.7'; dlerror: libnvinfer_plugin.so.7: cannot open shared object file: No such file or directory; LD_LIBRARY_PATH: /usr/local/nvidia/lib:/usr/local/nvidia/lib64\n",
            "2023-03-08 08:59:05.756940: W tensorflow/compiler/tf2tensorrt/utils/py_utils.cc:38] TF-TRT Warning: Cannot dlopen some TensorRT libraries. If you would like to use Nvidia GPU with TensorRT, please make sure the missing libraries mentioned above are installed properly.\n",
            "2023-03-08 08:59:11.448570: E tensorflow/compiler/xla/stream_executor/cuda/cuda_driver.cc:267] failed call to cuInit: CUDA_ERROR_NO_DEVICE: no CUDA-capable device is detected\n",
            "\u001b[2K     \u001b[90m━━━━━━━━━━━━━━━━━━━━━━━━━━━━━━━━━━━━━━━━\u001b[0m \u001b[32m12.8/12.8 MB\u001b[0m \u001b[31m29.4 MB/s\u001b[0m eta \u001b[36m0:00:00\u001b[0m\n",
            "\u001b[?25h\u001b[38;5;2m✔ Download and installation successful\u001b[0m\n",
            "You can now load the package via spacy.load('en_core_web_sm')\n"
          ]
        }
      ]
    },
    {
      "cell_type": "code",
      "execution_count": null,
      "metadata": {
        "colab": {
          "base_uri": "https://localhost:8080/"
        },
        "id": "W4asVZP8mA_j",
        "outputId": "bb62fbe4-2032-488b-945f-43cae14c0364"
      },
      "outputs": [
        {
          "output_type": "stream",
          "name": "stderr",
          "text": [
            "/usr/local/lib/python3.8/dist-packages/torch/cuda/__init__.py:497: UserWarning: Can't initialize NVML\n",
            "  warnings.warn(\"Can't initialize NVML\")\n"
          ]
        }
      ],
      "source": [
        "#import en_core_web_lg # Large SpaCy model for English language\n",
        "import numpy as np\n",
        "import re # regular expressions\n",
        "import spacy # NLU library\n",
        "\n",
        "from collections import defaultdict\n",
        "from sklearn.svm import SVC # Support Vector Classification model"
      ]
    },
    {
      "cell_type": "code",
      "source": [
        "nlp = spacy.load(\"en_core_web_sm\")\n"
      ],
      "metadata": {
        "id": "Fx6qt_ovmJgT"
      },
      "execution_count": null,
      "outputs": []
    },
    {
      "cell_type": "markdown",
      "source": [
        "#data"
      ],
      "metadata": {
        "id": "tOK-5qzTA65l"
      }
    },
    {
      "cell_type": "code",
      "source": [
        "# Create training data\n",
        "training_sentences = [\n",
        "    \"Hello!\", \"Hello\", \"Hi!\", \"Hello !\",\n",
        "    \"Hi\",\n",
        "    \"What are some strategies for playing defense in a football match when using a high block tactic?\",\n",
        "    \"When implementing a high block tactic in a football game, what are some defensive techniques to employ?\",\n",
        "    \"In a football match, when utilizing a high block tactic, what are the recommended defensive measures to take?\",\n",
        "    \"What defensive maneuvers should be executed when using a high block tactic in a football game?\",\n",
        "    \"When playing with a high block tactic in football, how can the defense effectively protect their goal?\", \n",
        "    \"When a team has a defensive identity, what offensive strategies should they employ?\",\n",
        "    \"How should a team with a defensive identity approach their offensive game plan?\",\n",
        "    \"In the context of a team's defensive identity, what offensive styles are recommended?\",\n",
        "    \"What offensive tactics should a team with a defensive identity utilize?\",\n",
        "    \"When a team's identity is based on defense, what offensive techniques should they incorporate into their play?\",\n",
        "    \"Thank you\", \"thanks\", \"goodbye\",\"thanks a lot\", \"thank you very much\"\n",
        "    \n",
        "]\n",
        "training_intents = [\n",
        "    \"greeting\",\n",
        "    \"greeting\",\n",
        "    \"greeting\",\n",
        "    \"greeting\",\n",
        "    \"greeting\",\n",
        "    \"press\",\n",
        "    \"press\",\n",
        "    \"press\",\n",
        "    \"press\",\n",
        "    \"press\",\n",
        "    \"counter_attack\",\n",
        "    \"counter_attack\",\n",
        "    \"counter_attack\",\n",
        "    \"counter_attack\",\n",
        "    \"counter_attack\",\n",
        "    \"end\", \"end\", \"end\", \"end\", \"end\"  \n",
        "]"
      ],
      "metadata": {
        "id": "Sm8Eje7_nP77"
      },
      "execution_count": null,
      "outputs": []
    },
    {
      "cell_type": "code",
      "source": [
        "tactic_explained={\"press\": \"I recommend you the high pressure tactic which refers to a defensive strategy in which a team attempts to regain possession of the ball quickly by putting intense pressure on the opposing team's players when they are in possession of the ball, often in their own half of the pitch. This is typically done by the team's forwards and midfielders, who work together to cut off passing options, close down space, and force mistakes.The objective of high pressure tactic is to disrupt the opposing team's rhythm, limit their time on the ball, and force turnovers in dangerous areas of the pitch, which can lead to scoring opportunities. However, high pressure tactics require a high level of fitness, coordination, and discipline from the players, as it can be physically demanding and requires a lot of teamwork to execute effectively.\",\n",
        "                  \"counter_attack\": \"I recommend you counter-attacking tactic which is a tactical strategy used by teams that prefer to defend deep and quickly transition to attack when they win the ball back.The idea behind the counter-attack tactic is to catch the opposition off-guard and take advantage of the open spaces that are left behind when the opposing team commits players forward. When a team wins the ball back in their own half, the defenders or midfielders quickly play a long ball or pass to their forwards, who will look to sprint forward and exploit the space that the opposition has left behind.The counter-attack tactic requires fast and skillful forwards who can create chances out of nothing, as well as defenders and midfielders who are disciplined and good at intercepting the ball.\",\n",
        "                  \"greeting\": \"Hi! How can I help you?\",\n",
        "                  \"end\":\"I hope my tips were useful to you! Wish all the best and never hesitate to come again if you have further questions. Johan Cruyf is always happy to help ^^\",\n",
        "                  }"
      ],
      "metadata": {
        "id": "xi8RMfXW-VDo"
      },
      "execution_count": null,
      "outputs": []
    },
    {
      "cell_type": "markdown",
      "source": [
        "# DATA PREPROCESSING"
      ],
      "metadata": {
        "id": "m3nADHn5L-mj"
      }
    },
    {
      "cell_type": "code",
      "source": [
        "# Initialize the array with zeros: X\n",
        "X_train = np.zeros((len(training_sentences), \n",
        "              nlp('sentences').vector.size))\n",
        "\n",
        "for i, sentence in enumerate(training_sentences):\n",
        "    # Pass each each sentence to the nlp object to create a document\n",
        "    doc = nlp(sentence)\n",
        "    #print(doc.vector.shape)\n",
        "    # Save the document's .vector attribute to the corresponding row in X\n",
        "    X_train[i, :] = doc.vector"
      ],
      "metadata": {
        "id": "VtWGhQZAnexW"
      },
      "execution_count": null,
      "outputs": []
    },
    {
      "cell_type": "code",
      "source": [
        "X_train.shape"
      ],
      "metadata": {
        "colab": {
          "base_uri": "https://localhost:8080/"
        },
        "id": "fyOfDYP8nnBn",
        "outputId": "23ee9a63-bb13-4fc7-8beb-d2ff2aa1a33f"
      },
      "execution_count": null,
      "outputs": [
        {
          "output_type": "execute_result",
          "data": {
            "text/plain": [
              "(20, 96)"
            ]
          },
          "metadata": {},
          "execution_count": 9
        }
      ]
    },
    {
      "cell_type": "markdown",
      "source": [
        "# train"
      ],
      "metadata": {
        "id": "RTRq8vT0A3XS"
      }
    },
    {
      "cell_type": "code",
      "source": [
        "# Create a support vector classifier\n",
        "clf = SVC(C=1, gamma=\"auto\", probability=True)\n",
        "\n",
        "# Fit the classifier using the training data\n",
        "clf.fit(X_train, training_intents)"
      ],
      "metadata": {
        "colab": {
          "base_uri": "https://localhost:8080/",
          "height": 74
        },
        "id": "v8b9NY_BrU2m",
        "outputId": "d836db39-12f5-445e-e42a-ddfd286c4228"
      },
      "execution_count": null,
      "outputs": [
        {
          "output_type": "execute_result",
          "data": {
            "text/plain": [
              "SVC(C=1, gamma='auto', probability=True)"
            ],
            "text/html": [
              "<style>#sk-container-id-1 {color: black;background-color: white;}#sk-container-id-1 pre{padding: 0;}#sk-container-id-1 div.sk-toggleable {background-color: white;}#sk-container-id-1 label.sk-toggleable__label {cursor: pointer;display: block;width: 100%;margin-bottom: 0;padding: 0.3em;box-sizing: border-box;text-align: center;}#sk-container-id-1 label.sk-toggleable__label-arrow:before {content: \"▸\";float: left;margin-right: 0.25em;color: #696969;}#sk-container-id-1 label.sk-toggleable__label-arrow:hover:before {color: black;}#sk-container-id-1 div.sk-estimator:hover label.sk-toggleable__label-arrow:before {color: black;}#sk-container-id-1 div.sk-toggleable__content {max-height: 0;max-width: 0;overflow: hidden;text-align: left;background-color: #f0f8ff;}#sk-container-id-1 div.sk-toggleable__content pre {margin: 0.2em;color: black;border-radius: 0.25em;background-color: #f0f8ff;}#sk-container-id-1 input.sk-toggleable__control:checked~div.sk-toggleable__content {max-height: 200px;max-width: 100%;overflow: auto;}#sk-container-id-1 input.sk-toggleable__control:checked~label.sk-toggleable__label-arrow:before {content: \"▾\";}#sk-container-id-1 div.sk-estimator input.sk-toggleable__control:checked~label.sk-toggleable__label {background-color: #d4ebff;}#sk-container-id-1 div.sk-label input.sk-toggleable__control:checked~label.sk-toggleable__label {background-color: #d4ebff;}#sk-container-id-1 input.sk-hidden--visually {border: 0;clip: rect(1px 1px 1px 1px);clip: rect(1px, 1px, 1px, 1px);height: 1px;margin: -1px;overflow: hidden;padding: 0;position: absolute;width: 1px;}#sk-container-id-1 div.sk-estimator {font-family: monospace;background-color: #f0f8ff;border: 1px dotted black;border-radius: 0.25em;box-sizing: border-box;margin-bottom: 0.5em;}#sk-container-id-1 div.sk-estimator:hover {background-color: #d4ebff;}#sk-container-id-1 div.sk-parallel-item::after {content: \"\";width: 100%;border-bottom: 1px solid gray;flex-grow: 1;}#sk-container-id-1 div.sk-label:hover label.sk-toggleable__label {background-color: #d4ebff;}#sk-container-id-1 div.sk-serial::before {content: \"\";position: absolute;border-left: 1px solid gray;box-sizing: border-box;top: 0;bottom: 0;left: 50%;z-index: 0;}#sk-container-id-1 div.sk-serial {display: flex;flex-direction: column;align-items: center;background-color: white;padding-right: 0.2em;padding-left: 0.2em;position: relative;}#sk-container-id-1 div.sk-item {position: relative;z-index: 1;}#sk-container-id-1 div.sk-parallel {display: flex;align-items: stretch;justify-content: center;background-color: white;position: relative;}#sk-container-id-1 div.sk-item::before, #sk-container-id-1 div.sk-parallel-item::before {content: \"\";position: absolute;border-left: 1px solid gray;box-sizing: border-box;top: 0;bottom: 0;left: 50%;z-index: -1;}#sk-container-id-1 div.sk-parallel-item {display: flex;flex-direction: column;z-index: 1;position: relative;background-color: white;}#sk-container-id-1 div.sk-parallel-item:first-child::after {align-self: flex-end;width: 50%;}#sk-container-id-1 div.sk-parallel-item:last-child::after {align-self: flex-start;width: 50%;}#sk-container-id-1 div.sk-parallel-item:only-child::after {width: 0;}#sk-container-id-1 div.sk-dashed-wrapped {border: 1px dashed gray;margin: 0 0.4em 0.5em 0.4em;box-sizing: border-box;padding-bottom: 0.4em;background-color: white;}#sk-container-id-1 div.sk-label label {font-family: monospace;font-weight: bold;display: inline-block;line-height: 1.2em;}#sk-container-id-1 div.sk-label-container {text-align: center;}#sk-container-id-1 div.sk-container {/* jupyter's `normalize.less` sets `[hidden] { display: none; }` but bootstrap.min.css set `[hidden] { display: none !important; }` so we also need the `!important` here to be able to override the default hidden behavior on the sphinx rendered scikit-learn.org. See: https://github.com/scikit-learn/scikit-learn/issues/21755 */display: inline-block !important;position: relative;}#sk-container-id-1 div.sk-text-repr-fallback {display: none;}</style><div id=\"sk-container-id-1\" class=\"sk-top-container\"><div class=\"sk-text-repr-fallback\"><pre>SVC(C=1, gamma=&#x27;auto&#x27;, probability=True)</pre><b>In a Jupyter environment, please rerun this cell to show the HTML representation or trust the notebook. <br />On GitHub, the HTML representation is unable to render, please try loading this page with nbviewer.org.</b></div><div class=\"sk-container\" hidden><div class=\"sk-item\"><div class=\"sk-estimator sk-toggleable\"><input class=\"sk-toggleable__control sk-hidden--visually\" id=\"sk-estimator-id-1\" type=\"checkbox\" checked><label for=\"sk-estimator-id-1\" class=\"sk-toggleable__label sk-toggleable__label-arrow\">SVC</label><div class=\"sk-toggleable__content\"><pre>SVC(C=1, gamma=&#x27;auto&#x27;, probability=True)</pre></div></div></div></div></div>"
            ]
          },
          "metadata": {},
          "execution_count": 7
        }
      ]
    },
    {
      "cell_type": "markdown",
      "source": [
        "#Test"
      ],
      "metadata": {
        "id": "7KlLWEE_Awjb"
      }
    },
    {
      "cell_type": "code",
      "source": [
        "def get_response_ml(text):\n",
        "    doc = nlp(text)\n",
        "    return(tactic_explained[clf.predict([doc.vector])[0]])"
      ],
      "metadata": {
        "id": "BsVLy7Npr7L6"
      },
      "execution_count": null,
      "outputs": []
    },
    {
      "cell_type": "code",
      "source": [
        "get_response_ml(\"Hello\")"
      ],
      "metadata": {
        "colab": {
          "base_uri": "https://localhost:8080/",
          "height": 35
        },
        "id": "JfD6_OXSCXQx",
        "outputId": "c0cde82c-03d0-4c79-93cf-4951c2bc0095"
      },
      "execution_count": null,
      "outputs": [
        {
          "output_type": "execute_result",
          "data": {
            "text/plain": [
              "'Hi! How can I help you?'"
            ],
            "application/vnd.google.colaboratory.intrinsic+json": {
              "type": "string"
            }
          },
          "metadata": {},
          "execution_count": 9
        }
      ]
    },
    {
      "cell_type": "code",
      "source": [
        "get_response_ml(\"how to defend while playing with a high block tactic?\")"
      ],
      "metadata": {
        "colab": {
          "base_uri": "https://localhost:8080/",
          "height": 122
        },
        "id": "sWdxhJMJsFaT",
        "outputId": "007fc51e-9911-446e-d6a1-9a3337654c93"
      },
      "execution_count": null,
      "outputs": [
        {
          "output_type": "execute_result",
          "data": {
            "text/plain": [
              "\"I recommend you the high pressure tactic which refers to a defensive strategy in which a team attempts to regain possession of the ball quickly by putting intense pressure on the opposing team's players when they are in possession of the ball, often in their own half of the pitch. This is typically done by the team's forwards and midfielders, who work together to cut off passing options, close down space, and force mistakes.The objective of high pressure tactic is to disrupt the opposing team's rhythm, limit their time on the ball, and force turnovers in dangerous areas of the pitch, which can lead to scoring opportunities. However, high pressure tactics require a high level of fitness, coordination, and discipline from the players, as it can be physically demanding and requires a lot of teamwork to execute effectively.\""
            ],
            "application/vnd.google.colaboratory.intrinsic+json": {
              "type": "string"
            }
          },
          "metadata": {},
          "execution_count": 10
        }
      ]
    },
    {
      "cell_type": "code",
      "source": [
        "get_response_ml(\"For a team with a defensive idendity, what offensive styles should be adopted?\")"
      ],
      "metadata": {
        "colab": {
          "base_uri": "https://localhost:8080/",
          "height": 122
        },
        "id": "-SOdiFO-sYZj",
        "outputId": "240da454-67e9-49d4-a37d-c607669b646d"
      },
      "execution_count": null,
      "outputs": [
        {
          "output_type": "execute_result",
          "data": {
            "text/plain": [
              "'I recommend you counter-attacking tactic which is a tactical strategy used by teams that prefer to defend deep and quickly transition to attack when they win the ball back.The idea behind the counter-attack tactic is to catch the opposition off-guard and take advantage of the open spaces that are left behind when the opposing team commits players forward. When a team wins the ball back in their own half, the defenders or midfielders quickly play a long ball or pass to their forwards, who will look to sprint forward and exploit the space that the opposition has left behind.The counter-attack tactic requires fast and skillful forwards who can create chances out of nothing, as well as defenders and midfielders who are disciplined and good at intercepting the ball.'"
            ],
            "application/vnd.google.colaboratory.intrinsic+json": {
              "type": "string"
            }
          },
          "metadata": {},
          "execution_count": 11
        }
      ]
    },
    {
      "cell_type": "code",
      "source": [
        "get_response_ml(\"Thank you\")"
      ],
      "metadata": {
        "colab": {
          "base_uri": "https://localhost:8080/",
          "height": 52
        },
        "id": "CBVAAJgQAuPp",
        "outputId": "f49d0c50-6738-46eb-cf01-0a973b6ccc1c"
      },
      "execution_count": null,
      "outputs": [
        {
          "output_type": "execute_result",
          "data": {
            "text/plain": [
              "'I hope my tips were useful to you! Wish all the best and never hesitate to come again if you have further questions. Johan Cruyf is always happy to help ^^'"
            ],
            "application/vnd.google.colaboratory.intrinsic+json": {
              "type": "string"
            }
          },
          "metadata": {},
          "execution_count": 12
        }
      ]
    },
    {
      "cell_type": "code",
      "source": [],
      "metadata": {
        "id": "MYg4LWr6CuEW"
      },
      "execution_count": null,
      "outputs": []
    }
  ]
}